{
 "cells": [
  {
   "cell_type": "code",
   "execution_count": 1,
   "metadata": {},
   "outputs": [],
   "source": [
    "# Import\n",
    "import pandas as pd\n",
    "import numpy as np\n",
    "from sklearn.preprocessing import LabelEncoder\n",
    "from sklearn.ensemble import GradientBoostingClassifier"
   ]
  },
  {
   "cell_type": "code",
   "execution_count": 2,
   "metadata": {},
   "outputs": [],
   "source": [
    "# Read & Preprocessing Data\n",
    "crime = pd.read_csv(\"data/Crime/crime_train.csv\").drop(['Resolution', 'Address', 'Descript', 'Dates'], axis=1)\n",
    "crimeTest = pd.read_csv(\"data/Crime/crime_test.csv\").drop(['Address', 'Dates'], axis=1)\n",
    "### crime['Dates'] = pd.to_datetime(crime['Dates'], format='%Y-%m-%d %H:%M:%S')\n",
    "### crimeTest['Dates'] = pd.to_datetime(crimeTest['Dates'], format='%Y-%m-%d %H:%M:%S')"
   ]
  },
  {
   "cell_type": "code",
   "execution_count": 3,
   "metadata": {},
   "outputs": [],
   "source": [
    "# Convert 'Category' first and save it\n",
    "crimeLE = LabelEncoder()\n",
    "crime['Category'] = crimeLE.fit_transform(crime['Category'])\n",
    "\n",
    "# Convert other values\n",
    "for col in crime:\n",
    "    if crime.dtypes[col] == \"object\": ### or crime.dtypes[col] == \"datetime64\":\n",
    "        tempLE = LabelEncoder()\n",
    "        crime[col] = tempLE.fit_transform(crime[col])\n",
    "        if col in crimeTest.columns:\n",
    "            crimeTest[col] = tempLE.transform(crimeTest[col])"
   ]
  },
  {
   "cell_type": "code",
   "execution_count": 4,
   "metadata": {
    "scrolled": true
   },
   "outputs": [],
   "source": [
    "# Prepare training data\n",
    "yTrain = crime['Category']\n",
    "xTrain = crime.drop(['Category'], axis=1)"
   ]
  },
  {
   "cell_type": "code",
   "execution_count": null,
   "metadata": {},
   "outputs": [],
   "source": [
    "# Fitting\n",
    "cl = GradientBoostingClassifier(random_state=0, n_estimators=200, learning_rate=0.3, max_depth=2)\n",
    "rs = cl.fit(xTrain, yTrain)"
   ]
  },
  {
   "cell_type": "code",
   "execution_count": null,
   "metadata": {},
   "outputs": [],
   "source": [
    "# Predict\n",
    "pr = rs.predict_proba(crimeTest.drop('id', axis=1))"
   ]
  },
  {
   "cell_type": "code",
   "execution_count": null,
   "metadata": {},
   "outputs": [],
   "source": [
    "# Print\n",
    "pr"
   ]
  },
  {
   "cell_type": "code",
   "execution_count": null,
   "metadata": {},
   "outputs": [],
   "source": [
    "# Export\n",
    "ex = pd.DataFrame(pr, columns=crimeLE.inverse_transform(rs.classes_))\n",
    "ex['id'] = crimeTest['id'].values\n",
    "ex['id'] = ex['id'].astype(float)\n",
    "ex.to_csv(\"crime_result_gb.csv\", index=False)\n",
    "ex"
   ]
  },
  {
   "cell_type": "code",
   "execution_count": null,
   "metadata": {},
   "outputs": [],
   "source": []
  }
 ],
 "metadata": {
  "kernelspec": {
   "display_name": "Python 3",
   "language": "python",
   "name": "python3"
  },
  "language_info": {
   "codemirror_mode": {
    "name": "ipython",
    "version": 3
   },
   "file_extension": ".py",
   "mimetype": "text/x-python",
   "name": "python",
   "nbconvert_exporter": "python",
   "pygments_lexer": "ipython3",
   "version": "3.6.7"
  }
 },
 "nbformat": 4,
 "nbformat_minor": 2
}
