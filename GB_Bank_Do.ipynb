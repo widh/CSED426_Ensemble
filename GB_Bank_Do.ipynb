{
 "cells": [
  {
   "cell_type": "code",
   "execution_count": 77,
   "metadata": {},
   "outputs": [],
   "source": [
    "# Import\n",
    "import pandas as pd\n",
    "import numpy as np\n",
    "from sklearn.preprocessing import LabelEncoder\n",
    "from sklearn.ensemble import GradientBoostingClassifier"
   ]
  },
  {
   "cell_type": "code",
   "execution_count": 78,
   "metadata": {},
   "outputs": [],
   "source": [
    "# Read & Preprocessing Data\n",
    "bank = pd.read_csv(\"data/Bank/bank_train.csv\")\n",
    "bankTest = pd.read_csv(\"data/Bank/bank_test.csv\")\n",
    "\n",
    "for col in bank:\n",
    "    if bank.dtypes[col] == \"object\":\n",
    "        tempLE = LabelEncoder()\n",
    "        bank[col] = tempLE.fit_transform(bank[col])\n",
    "        if col in bankTest.columns:\n",
    "            bankTest[col] = tempLE.transform(bankTest[col])"
   ]
  },
  {
   "cell_type": "code",
   "execution_count": 80,
   "metadata": {
    "scrolled": true
   },
   "outputs": [],
   "source": [
    "# Prepare training data\n",
    "yTrain = bank['y']\n",
    "xTrain = bank.drop('y', axis=1)\n",
    "\n",
    "# Fitting\n",
    "cl = GradientBoostingClassifier(random_state=0, n_estimators=2000, learning_rate=0.3, max_depth=3)\n",
    "rs = cl.fit(xTrain, yTrain)\n",
    "\n",
    "# Predict and Export\n",
    "pr = rs.predict(bankTest.drop('id', axis=1))\n",
    "ex = pd.DataFrame()\n",
    "ex['id'] = bankTest['id'].values\n",
    "ex['y'] = pr\n",
    "ex.to_csv(\"bank_result_gb.csv\", index=False)"
   ]
  },
  {
   "cell_type": "code",
   "execution_count": null,
   "metadata": {},
   "outputs": [],
   "source": []
  }
 ],
 "metadata": {
  "kernelspec": {
   "display_name": "Python 3",
   "language": "python",
   "name": "python3"
  },
  "language_info": {
   "codemirror_mode": {
    "name": "ipython",
    "version": 3
   },
   "file_extension": ".py",
   "mimetype": "text/x-python",
   "name": "python",
   "nbconvert_exporter": "python",
   "pygments_lexer": "ipython3",
   "version": "3.6.7"
  }
 },
 "nbformat": 4,
 "nbformat_minor": 2
}
