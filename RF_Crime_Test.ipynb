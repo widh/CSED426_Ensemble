{
 "cells": [
  {
   "cell_type": "code",
   "execution_count": 16,
   "metadata": {},
   "outputs": [],
   "source": [
    "# Import\n",
    "import pandas as pd\n",
    "import numpy as np\n",
    "from sklearn.preprocessing import LabelEncoder\n",
    "from sklearn.ensemble import RandomForestClassifier\n",
    "from sklearn.model_selection import KFold\n",
    "from sklearn.metrics import accuracy_score"
   ]
  },
  {
   "cell_type": "code",
   "execution_count": 17,
   "metadata": {},
   "outputs": [],
   "source": [
    "# Read & Preprocessing Data\n",
    "bankRaw = pd.read_csv(\"data/Bank/bank_train.csv\")\n",
    "bank = bankRaw.apply(LabelEncoder().fit_transform)"
   ]
  },
  {
   "cell_type": "code",
   "execution_count": 19,
   "metadata": {
    "scrolled": true
   },
   "outputs": [
    {
     "data": {
      "text/plain": [
       "0.9009481867860339"
      ]
     },
     "execution_count": 19,
     "metadata": {},
     "output_type": "execute_result"
    }
   ],
   "source": [
    "# KFold for test\n",
    "scores = np.zeros(20)\n",
    "cv = KFold(20, shuffle=True, random_state=0)\n",
    "for i, (idxTrain, idxTest) in enumerate(cv.split(bank)):\n",
    "    bankTrain = bank.iloc[idxTrain]\n",
    "    bankTest = bank.iloc[idxTest]\n",
    "    \n",
    "    # Prepare training data\n",
    "    yTrain = bankTrain['y']\n",
    "    xTrain = bankTrain.drop('y', axis=1)\n",
    "    \n",
    "    # Fitting\n",
    "    cl = RandomForestClassifier(n_estimators=20, random_state=2)\n",
    "    rs = cl.fit(xTrain, yTrain)\n",
    "    \n",
    "    pr = rs.predict(bankTest.drop('y', axis=1))\n",
    "    scores[i] = accuracy_score(bankTest['y'], pr)\n",
    "\n",
    "np.mean(scores)"
   ]
  }
 ],
 "metadata": {
  "kernelspec": {
   "display_name": "Python 3",
   "language": "python",
   "name": "python3"
  },
  "language_info": {
   "codemirror_mode": {
    "name": "ipython",
    "version": 3
   },
   "file_extension": ".py",
   "mimetype": "text/x-python",
   "name": "python",
   "nbconvert_exporter": "python",
   "pygments_lexer": "ipython3",
   "version": "3.6.7"
  }
 },
 "nbformat": 4,
 "nbformat_minor": 2
}
