{
 "cells": [
  {
   "cell_type": "code",
   "execution_count": null,
   "metadata": {},
   "outputs": [],
   "source": [
    "# Import\n",
    "import pandas as pd\n",
    "import numpy as np\n",
    "from sklearn.preprocessing import LabelEncoder\n",
    "from sklearn.ensemble import RandomForestClassifier\n",
    "from sklearn.model_selection import KFold\n",
    "from sklearn.metrics import accuracy_score, log_loss"
   ]
  },
  {
   "cell_type": "code",
   "execution_count": null,
   "metadata": {},
   "outputs": [],
   "source": [
    "# Read & Preprocessing Data\n",
    "crimeRaw = pd.read_csv(\"data/Crime/crime_train.csv\").drop(['Resolution', 'Address', 'Descript', 'Dates'], axis=1)\n",
    "### crimeRaw['Dates'] = pd.to_datetime(crimeRaw['Dates'], format='%Y-%m-%d %H:%M:%S')\n",
    "crimeLE = LabelEncoder()\n",
    "crime = pd.DataFrame()\n",
    "crime['Category'] = crimeLE.fit_transform(crimeRaw['Category'])\n",
    "for col in crimeRaw:\n",
    "    if crimeRaw.dtypes[col] == \"object\":\n",
    "        tempLE = LabelEncoder()\n",
    "        crime[col] = tempLE.fit_transform(crimeRaw[col])"
   ]
  },
  {
   "cell_type": "code",
   "execution_count": null,
   "metadata": {
    "scrolled": true
   },
   "outputs": [],
   "source": [
    "# Prepare Data for shorttime test\n",
    "yTrain = crime['Category']\n",
    "xTrain = crime.drop('Category', axis=1)"
   ]
  },
  {
   "cell_type": "code",
   "execution_count": null,
   "metadata": {},
   "outputs": [],
   "source": [
    "# Train\n",
    "cl = RandomForestClassifier(n_estimators=200, random_state=0)\n",
    "rs = cl.fit(xTrain, yTrain)"
   ]
  },
  {
   "cell_type": "code",
   "execution_count": null,
   "metadata": {},
   "outputs": [],
   "source": [
    "# Do Predict\n",
    "pr = rs.predict(crime.drop(['Category'], axis=1))\n",
    "pp = rs.predict_proba(crime.drop(['Category'], axis=1))"
   ]
  },
  {
   "cell_type": "code",
   "execution_count": null,
   "metadata": {},
   "outputs": [],
   "source": [
    "# Print accuracy\n",
    "print(\"Accuracy: \", accuracy_score(crime['Category'], pr))\n",
    "# Without Address: 0.44 (Estimator=5), 0.45 (Estimator=10)\n",
    "# With Address: 0.46 (Estimator=5), 0.47 (Estimator=10)"
   ]
  },
  {
   "cell_type": "code",
   "execution_count": null,
   "metadata": {},
   "outputs": [],
   "source": [
    "# Print loss\n",
    "print(\"Multiclass Loss: \", log_loss(crimeLE.inverse_transform(crime['Category']), pp, labels=crimeLE.classes_))"
   ]
  },
  {
   "cell_type": "code",
   "execution_count": null,
   "metadata": {},
   "outputs": [],
   "source": [
    "# KFold for test\n",
    "scores = np.zeros(10)\n",
    "cv = KFold(10, shuffle=True, random_state=0)\n",
    "for i, (idxTrain, idxTest) in enumerate(cv.split(crime)):\n",
    "    crimeTrain = crime.iloc[idxTrain]\n",
    "    crimeTest = crime.iloc[idxTest]\n",
    "    \n",
    "    # Prepare training data\n",
    "    yTrain = crimeTrain['Category']\n",
    "    xTrain = crimeTrain.drop('Category', axis=1)\n",
    "    \n",
    "    # Fitting\n",
    "    cl = RandomForestClassifier(n_estimators=20, random_state=2)\n",
    "    rs = cl.fit(xTrain, yTrain)\n",
    "    \n",
    "    pr = rs.predict(crimeTest.drop('Category', axis=1))\n",
    "    scores[i] = accuracy_score(crimeTest['Category'], pr)\n",
    "\n",
    "np.mean(scores)"
   ]
  },
  {
   "cell_type": "code",
   "execution_count": null,
   "metadata": {},
   "outputs": [],
   "source": []
  }
 ],
 "metadata": {
  "kernelspec": {
   "display_name": "Python 3",
   "language": "python",
   "name": "python3"
  },
  "language_info": {
   "codemirror_mode": {
    "name": "ipython",
    "version": 3
   },
   "file_extension": ".py",
   "mimetype": "text/x-python",
   "name": "python",
   "nbconvert_exporter": "python",
   "pygments_lexer": "ipython3",
   "version": "3.6.7"
  }
 },
 "nbformat": 4,
 "nbformat_minor": 2
}
