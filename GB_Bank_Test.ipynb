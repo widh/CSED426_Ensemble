{
 "cells": [
  {
   "cell_type": "code",
   "execution_count": null,
   "metadata": {},
   "outputs": [],
   "source": [
    "# Import\n",
    "import pandas as pd\n",
    "import numpy as np\n",
    "from sklearn.preprocessing import LabelEncoder\n",
    "from sklearn.ensemble import GradientBoostingClassifier\n",
    "from sklearn.model_selection import KFold\n",
    "from sklearn.metrics import accuracy_score"
   ]
  },
  {
   "cell_type": "code",
   "execution_count": null,
   "metadata": {},
   "outputs": [],
   "source": [
    "# Read & Preprocessing Data\n",
    "bankRaw = pd.read_csv(\"data/Bank/bank_train.csv\")\n",
    "bank = bankRaw.apply(LabelEncoder().fit_transform)"
   ]
  },
  {
   "cell_type": "code",
   "execution_count": null,
   "metadata": {
    "scrolled": true
   },
   "outputs": [],
   "source": [
    "# General Fitting\n",
    "yTrain = bank['y']\n",
    "xTrain = bank.drop('y', axis=1)\n",
    "\n",
    "cl = GradientBoostingClassifier(random_state=0, n_estimators=20000, learning_rate=0.3, max_depth=1)\n",
    "rs = cl.fit(xTrain, yTrain)\n",
    "\n",
    "pr = rs.predict(bank.drop('y', axis=1))\n",
    "print(\"Accuracy: \", accuracy_score(bank['y'], pr))\n",
    "# 20000/0.2/2 = 0.9862445565770374\n",
    "# 20000/0.3/2 = 0.9939517522637727\n",
    "# 20000/0.3/1 = 0.9134927766641322"
   ]
  },
  {
   "cell_type": "code",
   "execution_count": null,
   "metadata": {},
   "outputs": [],
   "source": [
    "# KFold for test\n",
    "scoresTest = np.zeros(20)\n",
    "scoresTrain = np.zeros(20)\n",
    "cv = KFold(20, shuffle=True, random_state=0)\n",
    "for i, (idxTrain, idxTest) in enumerate(cv.split(bank)):\n",
    "    bankTrain = bank.iloc[idxTrain]\n",
    "    bankTest = bank.iloc[idxTest]\n",
    "    \n",
    "    # Prepare training data\n",
    "    yTrain = bankTrain['y']\n",
    "    xTrain = bankTrain.drop('y', axis=1)\n",
    "    \n",
    "    # Fitting\n",
    "    cl = GradientBoostingClassifier(random_state=0, n_estimators=100, learning_rate=0.2)\n",
    "    rs = cl.fit(xTrain, yTrain)\n",
    "    \n",
    "    pr = rs.predict(bankTest.drop('y', axis=1))\n",
    "    scoresTest[i] = accuracy_score(bankTest['y'], pr)\n",
    "    prTrain = rs.predict(bankTrain.drop('y', axis=1))\n",
    "    scoresTrain[i] = accuracy_score(bankTrain['y'], prTrain)\n",
    "    \n",
    "print(\"Train Set Accuracy: \", np.mean(scoresTrain))\n",
    "print(\"Test Set Accuracy: \", np.mean(scoresTest))               "
   ]
  },
  {
   "cell_type": "code",
   "execution_count": null,
   "metadata": {},
   "outputs": [],
   "source": []
  }
 ],
 "metadata": {
  "kernelspec": {
   "display_name": "Python 3",
   "language": "python",
   "name": "python3"
  },
  "language_info": {
   "codemirror_mode": {
    "name": "ipython",
    "version": 3
   },
   "file_extension": ".py",
   "mimetype": "text/x-python",
   "name": "python",
   "nbconvert_exporter": "python",
   "pygments_lexer": "ipython3",
   "version": "3.6.7"
  }
 },
 "nbformat": 4,
 "nbformat_minor": 2
}
